{
 "cells": [
  {
   "cell_type": "markdown",
   "metadata": {},
   "source": [
    "# Convolutional neural networks\n",
    "\n",
    "In this notebook, we'll put together our convolutional layers to implement a 3-layer CNN.  Then, we'll ask you to implement a CNN that can achieve > 65% validation error on CIFAR-10.\n",
    "\n",
    "CS231n has built a solid API for building these modular frameworks and training them, and we will use their very well implemented framework as opposed to \"reinventing the wheel.\"  This includes using their Solver, various utility functions, their layer structure, and their implementation of fast CNN layers.  This also includes nndl.fc_net, nndl.layers, and nndl.layer_utils.  As in prior assignments, we thank Serena Yeung & Justin Johnson for permission to use code written for the CS 231n class (cs231n.stanford.edu).  \n",
    "\n",
    "\n",
    "If you have not completed the Spatial BatchNorm Notebook, please see the following description from that notebook:\n",
    "\n",
    "Please copy and paste your prior implemented code from HW #4 to start this assignment.  If you did not correctly implement the layers in HW #4, you may collaborate with a classmate to use their layer implementations from HW #4.  You may also visit TA or Prof OH to correct your implementation.  \n",
    "\n",
    "You'll want to copy and paste from HW #4:\n",
    "    - layers.py for your FC network layers, as well as batchnorm and dropout.\n",
    "    - layer_utils.py for your combined FC network layers.\n",
    "    - optim.py for your optimizers.\n",
    "\n",
    "Be sure to place these in the `nndl/` directory so they're imported correctly.  Note, as announced in class, we will not be releasing our solutions."
   ]
  },
  {
   "cell_type": "code",
   "execution_count": 1,
   "metadata": {},
   "outputs": [],
   "source": [
    "# As usual, a bit of setup\n",
    "\n",
    "import numpy as np\n",
    "import matplotlib.pyplot as plt\n",
    "from nndl.cnn import *\n",
    "from cs231n.data_utils import get_CIFAR10_data\n",
    "from cs231n.gradient_check import eval_numerical_gradient_array, eval_numerical_gradient\n",
    "from nndl.layers import *\n",
    "from nndl.conv_layers import *\n",
    "from cs231n.fast_layers import *\n",
    "from cs231n.solver import Solver\n",
    "\n",
    "%matplotlib inline\n",
    "plt.rcParams['figure.figsize'] = (10.0, 8.0) # set default size of plots\n",
    "plt.rcParams['image.interpolation'] = 'nearest'\n",
    "plt.rcParams['image.cmap'] = 'gray'\n",
    "\n",
    "# for auto-reloading external modules\n",
    "# see http://stackoverflow.com/questions/1907993/autoreload-of-modules-in-ipython\n",
    "%load_ext autoreload\n",
    "%autoreload 2\n",
    "\n",
    "def rel_error(x, y):\n",
    "  \"\"\" returns relative error \"\"\"\n",
    "  return np.max(np.abs(x - y) / (np.maximum(1e-8, np.abs(x) + np.abs(y))))"
   ]
  },
  {
   "cell_type": "code",
   "execution_count": 2,
   "metadata": {},
   "outputs": [
    {
     "name": "stdout",
     "output_type": "stream",
     "text": [
      "X_train: (49000, 3, 32, 32) \n",
      "y_train: (49000,) \n",
      "X_val: (1000, 3, 32, 32) \n",
      "y_val: (1000,) \n",
      "X_test: (1000, 3, 32, 32) \n",
      "y_test: (1000,) \n"
     ]
    }
   ],
   "source": [
    "# Load the (preprocessed) CIFAR10 data.\n",
    "\n",
    "data = get_CIFAR10_data()\n",
    "for k in data.keys():\n",
    "  print('{}: {} '.format(k, data[k].shape))"
   ]
  },
  {
   "cell_type": "markdown",
   "metadata": {},
   "source": [
    "## Three layer CNN\n",
    "\n",
    "In this notebook, you will implement a three layer CNN.  The `ThreeLayerConvNet` class is in `nndl/cnn.py`.  You'll need to modify that code for this section, including the initialization, as well as the calculation of the loss and gradients.  You should be able to use the building blocks you have either earlier coded or that we have provided.  Be sure to use the fast layers.\n",
    "\n",
    "The architecture of this CNN will be:\n",
    "\n",
    "conv - relu - 2x2 max pool - affine - relu - affine - softmax\n",
    "\n",
    "We won't use batchnorm yet.  You've also done enough of these to know how to debug; use the cells below.\n",
    "\n",
    "Note: As we are implementing several layers CNN networks. The gradient error can be expected for the `eval_numerical_gradient()` function. If your `W1 max relative error` and `W2 max relative error` are around or below 0.01, they should be acceptable. Other errors should be less than 1e-5. "
   ]
  },
  {
   "cell_type": "code",
   "execution_count": 3,
   "metadata": {},
   "outputs": [
    {
     "name": "stdout",
     "output_type": "stream",
     "text": [
      "W1 max relative error: 0.002353447891768483\n",
      "W2 max relative error: 0.005013234996373747\n",
      "W3 max relative error: 1.3307624386226346e-05\n",
      "b1 max relative error: 5.831180420718307e-06\n",
      "b2 max relative error: 5.229723879031235e-08\n",
      "b3 max relative error: 1.5076487803156672e-09\n"
     ]
    }
   ],
   "source": [
    "num_inputs = 2\n",
    "input_dim = (3, 16, 16)\n",
    "reg = 0.0\n",
    "num_classes = 10\n",
    "X = np.random.randn(num_inputs, *input_dim)\n",
    "y = np.random.randint(num_classes, size=num_inputs)\n",
    "\n",
    "model = ThreeLayerConvNet(num_filters=3, filter_size=3,\n",
    "                          input_dim=input_dim, hidden_dim=7,\n",
    "                          dtype=np.float64)\n",
    "loss, grads = model.loss(X, y)\n",
    "for param_name in sorted(grads):\n",
    "    f = lambda _: model.loss(X, y)[0]\n",
    "    param_grad_num = eval_numerical_gradient(f, model.params[param_name], verbose=False, h=1e-6)\n",
    "    e = rel_error(param_grad_num, grads[param_name])\n",
    "    print('{} max relative error: {}'.format(param_name, rel_error(param_grad_num, grads[param_name])))"
   ]
  },
  {
   "cell_type": "markdown",
   "metadata": {},
   "source": [
    "### Overfit small dataset\n",
    "\n",
    "To check your CNN implementation, let's overfit a small dataset."
   ]
  },
  {
   "cell_type": "code",
   "execution_count": 4,
   "metadata": {},
   "outputs": [
    {
     "name": "stdout",
     "output_type": "stream",
     "text": [
      "(Iteration 1 / 20) loss: 2.289127\n",
      "(Epoch 0 / 10) train acc: 0.240000; val_acc: 0.134000\n",
      "(Iteration 2 / 20) loss: 3.471839\n",
      "(Epoch 1 / 10) train acc: 0.170000; val_acc: 0.131000\n",
      "(Iteration 3 / 20) loss: 3.693313\n",
      "(Iteration 4 / 20) loss: 2.547598\n",
      "(Epoch 2 / 10) train acc: 0.200000; val_acc: 0.121000\n",
      "(Iteration 5 / 20) loss: 2.924032\n",
      "(Iteration 6 / 20) loss: 2.017887\n",
      "(Epoch 3 / 10) train acc: 0.300000; val_acc: 0.118000\n",
      "(Iteration 7 / 20) loss: 1.912410\n",
      "(Iteration 8 / 20) loss: 2.124645\n",
      "(Epoch 4 / 10) train acc: 0.360000; val_acc: 0.136000\n",
      "(Iteration 9 / 20) loss: 1.671485\n",
      "(Iteration 10 / 20) loss: 1.837897\n",
      "(Epoch 5 / 10) train acc: 0.440000; val_acc: 0.184000\n",
      "(Iteration 11 / 20) loss: 1.625990\n",
      "(Iteration 12 / 20) loss: 1.458391\n",
      "(Epoch 6 / 10) train acc: 0.480000; val_acc: 0.143000\n",
      "(Iteration 13 / 20) loss: 1.430402\n",
      "(Iteration 14 / 20) loss: 1.566425\n",
      "(Epoch 7 / 10) train acc: 0.590000; val_acc: 0.224000\n",
      "(Iteration 15 / 20) loss: 1.306668\n",
      "(Iteration 16 / 20) loss: 1.095680\n",
      "(Epoch 8 / 10) train acc: 0.650000; val_acc: 0.207000\n",
      "(Iteration 17 / 20) loss: 1.096592\n",
      "(Iteration 18 / 20) loss: 1.069811\n",
      "(Epoch 9 / 10) train acc: 0.720000; val_acc: 0.212000\n",
      "(Iteration 19 / 20) loss: 0.989537\n",
      "(Iteration 20 / 20) loss: 0.834884\n",
      "(Epoch 10 / 10) train acc: 0.800000; val_acc: 0.223000\n"
     ]
    }
   ],
   "source": [
    "num_train = 100\n",
    "small_data = {\n",
    "  'X_train': data['X_train'][:num_train],\n",
    "  'y_train': data['y_train'][:num_train],\n",
    "  'X_val': data['X_val'],\n",
    "  'y_val': data['y_val'],\n",
    "}\n",
    "\n",
    "model = ThreeLayerConvNet(weight_scale=1e-2)\n",
    "\n",
    "solver = Solver(model, small_data,\n",
    "                num_epochs=10, batch_size=50,\n",
    "                update_rule='adam',\n",
    "                optim_config={\n",
    "                  'learning_rate': 1e-3,\n",
    "                },\n",
    "                verbose=True, print_every=1)\n",
    "solver.train()"
   ]
  },
  {
   "cell_type": "code",
   "execution_count": 5,
   "metadata": {},
   "outputs": [
    {
     "data": {
      "image/png": "[encoded data removed]",
      "text/plain": [
       "<Figure size 1000x800 with 2 Axes>"
      ]
     },
     "metadata": {},
     "output_type": "display_data"
    }
   ],
   "source": [
    "plt.subplot(2, 1, 1)\n",
    "plt.plot(solver.loss_history, 'o')\n",
    "plt.xlabel('iteration')\n",
    "plt.ylabel('loss')\n",
    "\n",
    "plt.subplot(2, 1, 2)\n",
    "plt.plot(solver.train_acc_history, '-o')\n",
    "plt.plot(solver.val_acc_history, '-o')\n",
    "plt.legend(['train', 'val'], loc='upper left')\n",
    "plt.xlabel('epoch')\n",
    "plt.ylabel('accuracy')\n",
    "plt.show()"
   ]
  },
  {
   "cell_type": "markdown",
   "metadata": {},
   "source": [
    "## Train the network\n",
    "\n",
    "Now we train the 3 layer CNN on CIFAR-10 and assess its accuracy."
   ]
  },
  {
   "cell_type": "code",
   "execution_count": 6,
   "metadata": {
    "scrolled": false
   },
   "outputs": [
    {
     "name": "stdout",
     "output_type": "stream",
     "text": [
      "(Iteration 1 / 980) loss: 2.304612\n",
      "(Epoch 0 / 1) train acc: 0.095000; val_acc: 0.105000\n",
      "(Iteration 21 / 980) loss: 2.188779\n",
      "(Iteration 41 / 980) loss: 2.055641\n",
      "(Iteration 61 / 980) loss: 2.006257\n",
      "(Iteration 81 / 980) loss: 1.989346\n",
      "(Iteration 101 / 980) loss: 1.722425\n",
      "(Iteration 121 / 980) loss: 1.779693\n",
      "(Iteration 141 / 980) loss: 1.670106\n",
      "(Iteration 161 / 980) loss: 1.919255\n",
      "(Iteration 181 / 980) loss: 2.051353\n",
      "(Iteration 201 / 980) loss: 1.737803\n",
      "(Iteration 221 / 980) loss: 1.437014\n",
      "(Iteration 241 / 980) loss: 1.892217\n",
      "(Iteration 261 / 980) loss: 1.730051\n",
      "(Iteration 281 / 980) loss: 1.569152\n",
      "(Iteration 301 / 980) loss: 1.750572\n",
      "(Iteration 321 / 980) loss: 1.768263\n",
      "(Iteration 341 / 980) loss: 1.725869\n",
      "(Iteration 361 / 980) loss: 1.802402\n",
      "(Iteration 381 / 980) loss: 1.581742\n",
      "(Iteration 401 / 980) loss: 2.097852\n",
      "(Iteration 421 / 980) loss: 1.810154\n",
      "(Iteration 441 / 980) loss: 1.692662\n",
      "(Iteration 461 / 980) loss: 1.476534\n",
      "(Iteration 481 / 980) loss: 1.464379\n",
      "(Iteration 501 / 980) loss: 1.752639\n",
      "(Iteration 521 / 980) loss: 1.772842\n",
      "(Iteration 541 / 980) loss: 1.672829\n",
      "(Iteration 561 / 980) loss: 1.856760\n",
      "(Iteration 581 / 980) loss: 2.014622\n",
      "(Iteration 601 / 980) loss: 1.763879\n",
      "(Iteration 621 / 980) loss: 1.580543\n",
      "(Iteration 641 / 980) loss: 1.647972\n",
      "(Iteration 661 / 980) loss: 1.714892\n",
      "(Iteration 681 / 980) loss: 2.016940\n",
      "(Iteration 701 / 980) loss: 1.584991\n",
      "(Iteration 721 / 980) loss: 1.589096\n",
      "(Iteration 741 / 980) loss: 1.711478\n",
      "(Iteration 761 / 980) loss: 1.376955\n",
      "(Iteration 781 / 980) loss: 1.492760\n",
      "(Iteration 801 / 980) loss: 1.731428\n",
      "(Iteration 821 / 980) loss: 1.539044\n",
      "(Iteration 841 / 980) loss: 1.459588\n",
      "(Iteration 861 / 980) loss: 1.740670\n",
      "(Iteration 881 / 980) loss: 1.372148\n",
      "(Iteration 901 / 980) loss: 1.460807\n",
      "(Iteration 921 / 980) loss: 1.544465\n",
      "(Iteration 941 / 980) loss: 1.641453\n",
      "(Iteration 961 / 980) loss: 1.501248\n",
      "(Epoch 1 / 1) train acc: 0.450000; val_acc: 0.436000\n"
     ]
    }
   ],
   "source": [
    "model = ThreeLayerConvNet(weight_scale=0.001, hidden_dim=500, reg=0.001)\n",
    "\n",
    "solver = Solver(model, data,\n",
    "                num_epochs=1, batch_size=50,\n",
    "                update_rule='adam',\n",
    "                optim_config={\n",
    "                  'learning_rate': 1e-3,\n",
    "                },\n",
    "                verbose=True, print_every=20)\n",
    "solver.train()"
   ]
  },
  {
   "cell_type": "markdown",
   "metadata": {},
   "source": [
    "# Get > 65% validation accuracy on CIFAR-10.\n",
    "\n",
    "In the last part of the assignment, we'll now ask you to train a CNN to get better than 65% validation accuracy on CIFAR-10.\n",
    "\n",
    "### Things you should try:\n",
    "- Filter size: Above we used 7x7; but VGGNet and onwards showed stacks of 3x3 filters are good.  \n",
    "- Number of filters: Above we used 32 filters. Do more or fewer do better?\n",
    "- Batch normalization: Try adding spatial batch normalization after convolution layers and vanilla batch normalization aafter affine layers. Do your networks train faster?\n",
    "- Network architecture: Can a deeper CNN do better?  Consider these architectures:\n",
    "    - [conv-relu-pool]xN - conv - relu - [affine]xM - [softmax or SVM]\n",
    "    - [conv-relu-pool]XN - [affine]XM - [softmax or SVM]\n",
    "    - [conv-relu-conv-relu-pool]xN - [affine]xM - [softmax or SVM]\n",
    "\n",
    "### Tips for training\n",
    "For each network architecture that you try, you should tune the learning rate and regularization strength. When doing this there are a couple important things to keep in mind:\n",
    "\n",
    "- If the parameters are working well, you should see improvement within a few hundred iterations\n",
    "- Remember the coarse-to-fine approach for hyperparameter tuning: start by testing a large range of hyperparameters for just a few training iterations to find the combinations of parameters that are working at all.\n",
    "- Once you have found some sets of parameters that seem to work, search more finely around these parameters. You may need to train for more epochs."
   ]
  },
  {
   "cell_type": "code",
   "execution_count": 12,
   "metadata": {
    "scrolled": false
   },
   "outputs": [
    {
     "name": "stdout",
     "output_type": "stream",
     "text": [
      "(Iteration 1 / 1910) loss: 2.304586\n",
      "(Epoch 0 / 10) train acc: 0.098000; val_acc: 0.098000\n",
      "(Iteration 26 / 1910) loss: 1.870153\n",
      "(Iteration 51 / 1910) loss: 1.762461\n",
      "(Iteration 76 / 1910) loss: 1.551437\n",
      "(Iteration 101 / 1910) loss: 1.495176\n",
      "(Iteration 126 / 1910) loss: 1.519074\n",
      "(Iteration 151 / 1910) loss: 1.377383\n",
      "(Iteration 176 / 1910) loss: 1.315646\n",
      "(Epoch 1 / 10) train acc: 0.517000; val_acc: 0.525000\n",
      "(Iteration 201 / 1910) loss: 1.394776\n",
      "(Iteration 226 / 1910) loss: 1.414508\n",
      "(Iteration 251 / 1910) loss: 1.216867\n",
      "(Iteration 276 / 1910) loss: 1.208523\n",
      "(Iteration 301 / 1910) loss: 1.241154\n",
      "(Iteration 326 / 1910) loss: 1.203686\n",
      "(Iteration 351 / 1910) loss: 1.163184\n",
      "(Iteration 376 / 1910) loss: 1.237114\n",
      "(Epoch 2 / 10) train acc: 0.612000; val_acc: 0.578000\n",
      "(Iteration 401 / 1910) loss: 1.287661\n",
      "(Iteration 426 / 1910) loss: 1.141830\n",
      "(Iteration 451 / 1910) loss: 1.217314\n",
      "(Iteration 476 / 1910) loss: 1.238279\n",
      "(Iteration 501 / 1910) loss: 0.980777\n",
      "(Iteration 526 / 1910) loss: 1.160892\n",
      "(Iteration 551 / 1910) loss: 1.050883\n",
      "(Epoch 3 / 10) train acc: 0.631000; val_acc: 0.613000\n",
      "(Iteration 576 / 1910) loss: 1.059769\n",
      "(Iteration 601 / 1910) loss: 1.025511\n",
      "(Iteration 626 / 1910) loss: 1.054834\n",
      "(Iteration 651 / 1910) loss: 0.964846\n",
      "(Iteration 676 / 1910) loss: 1.001446\n",
      "(Iteration 701 / 1910) loss: 0.918790\n",
      "(Iteration 726 / 1910) loss: 0.957400\n",
      "(Iteration 751 / 1910) loss: 1.038415\n",
      "(Epoch 4 / 10) train acc: 0.676000; val_acc: 0.628000\n",
      "(Iteration 776 / 1910) loss: 0.913503\n",
      "(Iteration 801 / 1910) loss: 0.939660\n",
      "(Iteration 826 / 1910) loss: 1.029909\n",
      "(Iteration 851 / 1910) loss: 0.983596\n",
      "(Iteration 876 / 1910) loss: 1.021102\n",
      "(Iteration 901 / 1910) loss: 0.841725\n",
      "(Iteration 926 / 1910) loss: 1.042133\n",
      "(Iteration 951 / 1910) loss: 0.821615\n",
      "(Epoch 5 / 10) train acc: 0.692000; val_acc: 0.635000\n",
      "(Iteration 976 / 1910) loss: 0.944074\n",
      "(Iteration 1001 / 1910) loss: 0.900303\n",
      "(Iteration 1026 / 1910) loss: 0.938538\n",
      "(Iteration 1051 / 1910) loss: 0.975272\n",
      "(Iteration 1076 / 1910) loss: 0.912475\n",
      "(Iteration 1101 / 1910) loss: 0.933429\n",
      "(Iteration 1126 / 1910) loss: 0.971757\n",
      "(Epoch 6 / 10) train acc: 0.713000; val_acc: 0.628000\n",
      "(Iteration 1151 / 1910) loss: 0.986898\n",
      "(Iteration 1176 / 1910) loss: 0.907307\n",
      "(Iteration 1201 / 1910) loss: 0.887810\n",
      "(Iteration 1226 / 1910) loss: 0.897070\n",
      "(Iteration 1251 / 1910) loss: 0.775743\n",
      "(Iteration 1276 / 1910) loss: 0.714149\n",
      "(Iteration 1301 / 1910) loss: 0.806587\n",
      "(Iteration 1326 / 1910) loss: 0.826706\n",
      "(Epoch 7 / 10) train acc: 0.746000; val_acc: 0.632000\n",
      "(Iteration 1351 / 1910) loss: 0.869294\n",
      "(Iteration 1376 / 1910) loss: 0.731379\n",
      "(Iteration 1401 / 1910) loss: 0.862023\n",
      "(Iteration 1426 / 1910) loss: 0.839771\n",
      "(Iteration 1451 / 1910) loss: 0.910239\n",
      "(Iteration 1476 / 1910) loss: 0.808595\n",
      "(Iteration 1501 / 1910) loss: 0.687850\n",
      "(Iteration 1526 / 1910) loss: 0.871855\n",
      "(Epoch 8 / 10) train acc: 0.708000; val_acc: 0.636000\n",
      "(Iteration 1551 / 1910) loss: 0.837018\n",
      "(Iteration 1576 / 1910) loss: 0.749943\n",
      "(Iteration 1601 / 1910) loss: 0.754084\n",
      "(Iteration 1626 / 1910) loss: 0.945827\n",
      "(Iteration 1651 / 1910) loss: 0.826186\n",
      "(Iteration 1676 / 1910) loss: 0.768997\n",
      "(Iteration 1701 / 1910) loss: 0.830117\n",
      "(Epoch 9 / 10) train acc: 0.759000; val_acc: 0.645000\n",
      "(Iteration 1726 / 1910) loss: 0.629967\n",
      "(Iteration 1751 / 1910) loss: 0.767639\n",
      "(Iteration 1776 / 1910) loss: 0.766751\n",
      "(Iteration 1801 / 1910) loss: 0.763988\n",
      "(Iteration 1826 / 1910) loss: 0.791556\n",
      "(Iteration 1851 / 1910) loss: 0.819872\n",
      "(Iteration 1876 / 1910) loss: 0.750241\n",
      "(Iteration 1901 / 1910) loss: 0.712412\n",
      "(Epoch 10 / 10) train acc: 0.777000; val_acc: 0.654000\n"
     ]
    }
   ],
   "source": [
    "# ================================================================ #\n",
    "# YOUR CODE HERE:\n",
    "#   Implement a CNN to achieve greater than 65% validation accuracy\n",
    "#   on CIFAR-10.\n",
    "# ================================================================ #\n",
    "\n",
    "model = ThreeLayerConvNet(weight_scale=0.001, hidden_dim=1000, reg=0.0005, use_batchnorm=True)\n",
    "\n",
    "solver = Solver(model, data,\n",
    "                num_epochs=10, batch_size=256,\n",
    "                update_rule='adam',\n",
    "                optim_config={\n",
    "                  'learning_rate': 9e-4,\n",
    "                  'lr_decay': 0.985\n",
    "                },\n",
    "                verbose=True, print_every=25)\n",
    "solver.train()\n",
    "\n",
    "# ================================================================ #\n",
    "# END YOUR CODE HERE\n",
    "# ================================================================ #\n"
   ]
  },
  {
   "cell_type": "code",
   "execution_count": null,
   "metadata": {},
   "outputs": [],
   "source": []
  }
 ],
 "metadata": {
  "kernelspec": {
   "display_name": "deeplearning2",
   "language": "python",
   "name": "python3"
  },
  "language_info": {
   "codemirror_mode": {
    "name": "ipython",
    "version": 3
   },
   "file_extension": ".py",
   "mimetype": "text/x-python",
   "name": "python",
   "nbconvert_exporter": "python",
   "pygments_lexer": "ipython3",
   "version": "3.13.2"
  }
 },
 "nbformat": 4,
 "nbformat_minor": 2
}
